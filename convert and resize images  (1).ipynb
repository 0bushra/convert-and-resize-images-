{
 "cells": [
  {
   "cell_type": "code",
   "execution_count": 1,
   "id": "5b78b18a",
   "metadata": {},
   "outputs": [],
   "source": [
    "from PIL import Image\n",
    "import os"
   ]
  },
  {
   "cell_type": "code",
   "execution_count": 2,
   "id": "0eabc5bf",
   "metadata": {},
   "outputs": [],
   "source": [
    "input_folder = r\"C:\\Users\\DELL\\Downloads\\archive (10)\\Dataset\\images\\trainB\"\n",
    "output_folder = r\"C:\\Users\\DELL\\Downloads\\train b png\""
   ]
  },
  {
   "cell_type": "code",
   "execution_count": 3,
   "id": "9e602a07",
   "metadata": {},
   "outputs": [],
   "source": [
    "if not os.path.exists(output_folder):\n",
    "    os.makedirs(output_folder)\n"
   ]
  },
  {
   "cell_type": "code",
   "execution_count": 4,
   "id": "4758ae8c",
   "metadata": {},
   "outputs": [],
   "source": [
    "target_size = (256, 256)\n"
   ]
  },
  {
   "cell_type": "code",
   "execution_count": 5,
   "id": "05b8920a",
   "metadata": {},
   "outputs": [],
   "source": [
    "for filename in os.listdir(input_folder):\n",
    "    if filename.endswith((\".jpg\", \".jpeg\", \".bmp\", \".gif\" , \"png\")):\n",
    "        input_path = os.path.join(input_folder, filename)\n",
    "\n",
    "        image = Image.open(input_path)\n",
    "        resized_image = image.resize(target_size)\n",
    "        output_path = os.path.join(output_folder, os.path.splitext(filename)[0] + \"_resized.png\")\n",
    "        resized_image.save(output_path)\n"
   ]
  },
  {
   "cell_type": "code",
   "execution_count": 6,
   "id": "93b4aa2c",
   "metadata": {},
   "outputs": [
    {
     "name": "stdout",
     "output_type": "stream",
     "text": [
      "Conversion and resizing complete.\n"
     ]
    }
   ],
   "source": [
    "print(\"Conversion and resizing complete.\")\n"
   ]
  },
  {
   "cell_type": "code",
   "execution_count": null,
   "id": "e66b6f4e",
   "metadata": {},
   "outputs": [],
   "source": []
  }
 ],
 "metadata": {
  "kernelspec": {
   "display_name": "Python 3 (ipykernel)",
   "language": "python",
   "name": "python3"
  },
  "language_info": {
   "codemirror_mode": {
    "name": "ipython",
    "version": 3
   },
   "file_extension": ".py",
   "mimetype": "text/x-python",
   "name": "python",
   "nbconvert_exporter": "python",
   "pygments_lexer": "ipython3",
   "version": "3.9.7"
  }
 },
 "nbformat": 4,
 "nbformat_minor": 5
}
